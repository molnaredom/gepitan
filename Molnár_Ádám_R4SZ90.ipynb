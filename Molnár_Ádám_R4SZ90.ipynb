{
  "nbformat": 4,
  "nbformat_minor": 0,
  "metadata": {
    "colab": {
      "name": "Molnár Ádám R4SZ90",
      "provenance": [],
      "collapsed_sections": [],
      "include_colab_link": true
    },
    "kernelspec": {
      "name": "python3",
      "display_name": "Python 3"
    }
  },
  "cells": [
    {
      "cell_type": "markdown",
      "metadata": {
        "id": "view-in-github",
        "colab_type": "text"
      },
      "source": [
        "<a href=\"https://colab.research.google.com/github/molnaredom/gepitan/blob/main/Moln%C3%A1r_%C3%81d%C3%A1m_R4SZ90.ipynb\" target=\"_parent\"><img src=\"https://colab.research.google.com/assets/colab-badge.svg\" alt=\"Open In Colab\"/></a>"
      ]
    },
    {
      "cell_type": "markdown",
      "metadata": {
        "id": "zL5QnDS7i1cz"
      },
      "source": [
        "# 1. feladat\n",
        "\n",
        "Az https://archive.ics.uci.edu/ml/machine-learning-databases/abalone/abalone.data adatbázis [kagylók](https://www.thespruceeats.com/about-abalone-2215715) jellemzőit és életkorát tartalmazza. Hajts végre regressziós gépi tanulási kísérletet arra nézve, hogy az életkor mennyire jól állapítható meg képek a jellemzők alapján! \n",
        "\n",
        "*   Az `abalone.data` fájl utolsó oszlopa tartalmazza az életkort.\n",
        "*   Használd az egyedek véletlenszerű 30%-át kiértékelő adatbázisnak.\n",
        "*   A k-legközelebbi-szomszéd módszert használd!\n",
        "*   Az `abalone.names` fájl információkat tartalmaz az adatbázisró, például a jellemzők neveit is."
      ]
    },
    {
      "cell_type": "code",
      "metadata": {
        "id": "WPR1UZ2iiyx_"
      },
      "source": [
        "import pandas as pd\n",
        "df = pd.read_csv('https://archive.ics.uci.edu/ml/machine-learning-databases/abalone/abalone.data', \n",
        "                 sep=',',header=None\n",
        "                 )\n",
        "# header magadása\n",
        "df.columns = [\"Sex\", \"Length\",\"Diameter\",\"Height\", \"Whole weight\", \"Shucked weight\" , \"Viscera weight\",  \"Shell weight\" , \"Rings\"]\n",
        "\n",
        "\n",
        "# nevek = pd.read_csv('https://archive.ics.uci.edu/ml/machine-learning-databases/abalone/abalone.names', \n",
        "#                  sep=','\n",
        "#                  )\n",
        "\t# Name\t\tData Type\tMeas.\tDescription\n",
        "\t# ----\t\t---------\t-----\t-----------\n",
        "\t# Sex\t\tnominal\t\t\tM, F, and I (infant)\n",
        "\t# Length\t\tcontinuous\tmm\tLongest shell measurement\n",
        "\t# Diameter\tcontinuous\tmm\tperpendicular to length\n",
        "\t# Height\t\tcontinuous\tmm\twith meat in shell\n",
        "\t# Whole weight\tcontinuous\tgrams\twhole abalone\n",
        "\t# Shucked weight\tcontinuous\tgrams\tweight of meat\n",
        "\t# Viscera weight\tcontinuous\tgrams\tgut weight (after bleeding)\n",
        "\t# Shell weight\tcontinuous\tgrams\tafter being dried\n",
        "\t# Rings\t\tinteger\t\t\t+1.5 gives the age in years\n",
        "\n",
        "\n",
        "df = df.dropna()"
      ],
      "execution_count": 53,
      "outputs": []
    },
    {
      "cell_type": "code",
      "source": [
        "# adatok szetvalasztasa\n",
        "\n",
        "classlabels = df.iloc[:,-1]\n",
        "\n",
        "features = df.iloc[:,:-1] # az utolsó oszlop kivételével minden oszlop \n",
        "\n"
      ],
      "metadata": {
        "id": "aX5EZWNPJsMc"
      },
      "execution_count": 54,
      "outputs": []
    },
    {
      "cell_type": "code",
      "source": [
        "#a sex - oszlopot szamma kell alakitani mert pl az F betut nem ismeri fel számként\n",
        "from sklearn import preprocessing\n",
        "ohe = preprocessing.OneHotEncoder()\n",
        "cat_features = ohe.fit_transform(features.select_dtypes(include=['object'])) # kategórikus jellemzők ritka mátrixként\n",
        "\n",
        "import scipy.sparse\n",
        "num_features = scipy.sparse.csr_matrix(features.select_dtypes(exclude=['object'])) # numerikus jellemzők ritka mátrixként\n",
        "ohe_features = scipy.sparse.hstack((cat_features, num_features)) # ritka mátrixok horizontális konkatenálása \n",
        "ohe_features\n",
        "features = ohe_features\n",
        "features"
      ],
      "metadata": {
        "colab": {
          "base_uri": "https://localhost:8080/"
        },
        "id": "xvOOpw02MCuH",
        "outputId": "58831f18-dc97-445b-d2a5-0db328b2f709"
      },
      "execution_count": 55,
      "outputs": [
        {
          "output_type": "execute_result",
          "data": {
            "text/plain": [
              "<4177x10 sparse matrix of type '<class 'numpy.float64'>'\n",
              "\twith 33414 stored elements in COOrdinate format>"
            ]
          },
          "metadata": {},
          "execution_count": 55
        }
      ]
    },
    {
      "cell_type": "code",
      "source": [
        "from sklearn.model_selection import train_test_split\n",
        "train_features, valid_features, train_classlabels, valid_classlabels= train_test_split(features,\n",
        "                                                                                       classlabels,\n",
        "                                                                                       test_size=0.30\n",
        "                                                                                    \n",
        "                                                                                       )"
      ],
      "metadata": {
        "id": "JNZ1mCZrMsMG"
      },
      "execution_count": 56,
      "outputs": []
    },
    {
      "cell_type": "code",
      "source": [
        "# k legkozelebbi modszer hasznalata\n",
        "\n",
        "from sklearn.neighbors import KNeighborsRegressor\n",
        "\n",
        "dt = KNeighborsRegressor(n_neighbors=9) # döntési fa regresszióra\n",
        "dt.fit(train_features, train_classlabels) # tanítás a tanító adatbázison\n",
        "prediction = dt.predict(valid_features) # predikció a teszt adatbázison\n",
        "\n"
      ],
      "metadata": {
        "id": "Ahmap7YpLBN5"
      },
      "execution_count": 57,
      "outputs": []
    },
    {
      "cell_type": "markdown",
      "metadata": {
        "id": "mCNE2OxGi0Is"
      },
      "source": [
        "# 2/A. feladat\n",
        "Hangold be a k-legközelebbi-szomszéd meta-paraméterit. (bónus feladat: a meta-paraméter értékekre a túltanási ábra kirajzolása)"
      ]
    },
    {
      "cell_type": "code",
      "metadata": {
        "id": "UIi8txWTlgEG",
        "colab": {
          "base_uri": "https://localhost:8080/"
        },
        "outputId": "8edc9dce-d924-4d1a-c9a2-ba58f325978d"
      },
      "source": [
        "from sklearn.neighbors import KNeighborsClassifier\n",
        "from sklearn.metrics import f1_score\n",
        "valid_f1=[]\n",
        "train_f1=[]\n",
        "for k in range(1,20,2): # páratlan k értékek\n",
        "  knn = KNeighborsClassifier(n_neighbors=k) # kNN különböző k értékekkel\n",
        "  knn.fit(train_features, train_classlabels)  \n",
        "  valid_prediction = knn.predict(valid_features)\n",
        "  valid_f1.append(f1_score(valid_classlabels, valid_prediction, pos_label='positive', average='micro'))\n",
        "  train_prediction = knn.predict(train_features)\n",
        "  train_f1.append(f1_score(train_classlabels, train_prediction, pos_label='positive', average='micro'))"
      ],
      "execution_count": 58,
      "outputs": [
        {
          "output_type": "stream",
          "name": "stderr",
          "text": [
            "/usr/local/lib/python3.7/dist-packages/sklearn/metrics/_classification.py:1365: UserWarning: Note that pos_label (set to 'positive') is ignored when average != 'binary' (got 'micro'). You may use labels=[pos_label] to specify a single positive class.\n",
            "  UserWarning,\n",
            "/usr/local/lib/python3.7/dist-packages/sklearn/metrics/_classification.py:1365: UserWarning: Note that pos_label (set to 'positive') is ignored when average != 'binary' (got 'micro'). You may use labels=[pos_label] to specify a single positive class.\n",
            "  UserWarning,\n",
            "/usr/local/lib/python3.7/dist-packages/sklearn/metrics/_classification.py:1365: UserWarning: Note that pos_label (set to 'positive') is ignored when average != 'binary' (got 'micro'). You may use labels=[pos_label] to specify a single positive class.\n",
            "  UserWarning,\n",
            "/usr/local/lib/python3.7/dist-packages/sklearn/metrics/_classification.py:1365: UserWarning: Note that pos_label (set to 'positive') is ignored when average != 'binary' (got 'micro'). You may use labels=[pos_label] to specify a single positive class.\n",
            "  UserWarning,\n",
            "/usr/local/lib/python3.7/dist-packages/sklearn/metrics/_classification.py:1365: UserWarning: Note that pos_label (set to 'positive') is ignored when average != 'binary' (got 'micro'). You may use labels=[pos_label] to specify a single positive class.\n",
            "  UserWarning,\n",
            "/usr/local/lib/python3.7/dist-packages/sklearn/metrics/_classification.py:1365: UserWarning: Note that pos_label (set to 'positive') is ignored when average != 'binary' (got 'micro'). You may use labels=[pos_label] to specify a single positive class.\n",
            "  UserWarning,\n",
            "/usr/local/lib/python3.7/dist-packages/sklearn/metrics/_classification.py:1365: UserWarning: Note that pos_label (set to 'positive') is ignored when average != 'binary' (got 'micro'). You may use labels=[pos_label] to specify a single positive class.\n",
            "  UserWarning,\n",
            "/usr/local/lib/python3.7/dist-packages/sklearn/metrics/_classification.py:1365: UserWarning: Note that pos_label (set to 'positive') is ignored when average != 'binary' (got 'micro'). You may use labels=[pos_label] to specify a single positive class.\n",
            "  UserWarning,\n",
            "/usr/local/lib/python3.7/dist-packages/sklearn/metrics/_classification.py:1365: UserWarning: Note that pos_label (set to 'positive') is ignored when average != 'binary' (got 'micro'). You may use labels=[pos_label] to specify a single positive class.\n",
            "  UserWarning,\n",
            "/usr/local/lib/python3.7/dist-packages/sklearn/metrics/_classification.py:1365: UserWarning: Note that pos_label (set to 'positive') is ignored when average != 'binary' (got 'micro'). You may use labels=[pos_label] to specify a single positive class.\n",
            "  UserWarning,\n",
            "/usr/local/lib/python3.7/dist-packages/sklearn/metrics/_classification.py:1365: UserWarning: Note that pos_label (set to 'positive') is ignored when average != 'binary' (got 'micro'). You may use labels=[pos_label] to specify a single positive class.\n",
            "  UserWarning,\n",
            "/usr/local/lib/python3.7/dist-packages/sklearn/metrics/_classification.py:1365: UserWarning: Note that pos_label (set to 'positive') is ignored when average != 'binary' (got 'micro'). You may use labels=[pos_label] to specify a single positive class.\n",
            "  UserWarning,\n",
            "/usr/local/lib/python3.7/dist-packages/sklearn/metrics/_classification.py:1365: UserWarning: Note that pos_label (set to 'positive') is ignored when average != 'binary' (got 'micro'). You may use labels=[pos_label] to specify a single positive class.\n",
            "  UserWarning,\n",
            "/usr/local/lib/python3.7/dist-packages/sklearn/metrics/_classification.py:1365: UserWarning: Note that pos_label (set to 'positive') is ignored when average != 'binary' (got 'micro'). You may use labels=[pos_label] to specify a single positive class.\n",
            "  UserWarning,\n",
            "/usr/local/lib/python3.7/dist-packages/sklearn/metrics/_classification.py:1365: UserWarning: Note that pos_label (set to 'positive') is ignored when average != 'binary' (got 'micro'). You may use labels=[pos_label] to specify a single positive class.\n",
            "  UserWarning,\n",
            "/usr/local/lib/python3.7/dist-packages/sklearn/metrics/_classification.py:1365: UserWarning: Note that pos_label (set to 'positive') is ignored when average != 'binary' (got 'micro'). You may use labels=[pos_label] to specify a single positive class.\n",
            "  UserWarning,\n",
            "/usr/local/lib/python3.7/dist-packages/sklearn/metrics/_classification.py:1365: UserWarning: Note that pos_label (set to 'positive') is ignored when average != 'binary' (got 'micro'). You may use labels=[pos_label] to specify a single positive class.\n",
            "  UserWarning,\n",
            "/usr/local/lib/python3.7/dist-packages/sklearn/metrics/_classification.py:1365: UserWarning: Note that pos_label (set to 'positive') is ignored when average != 'binary' (got 'micro'). You may use labels=[pos_label] to specify a single positive class.\n",
            "  UserWarning,\n",
            "/usr/local/lib/python3.7/dist-packages/sklearn/metrics/_classification.py:1365: UserWarning: Note that pos_label (set to 'positive') is ignored when average != 'binary' (got 'micro'). You may use labels=[pos_label] to specify a single positive class.\n",
            "  UserWarning,\n",
            "/usr/local/lib/python3.7/dist-packages/sklearn/metrics/_classification.py:1365: UserWarning: Note that pos_label (set to 'positive') is ignored when average != 'binary' (got 'micro'). You may use labels=[pos_label] to specify a single positive class.\n",
            "  UserWarning,\n"
          ]
        }
      ]
    },
    {
      "cell_type": "code",
      "source": [
        "### kiiratas\n",
        "import matplotlib.pyplot as plt\n",
        "plt.figure(figsize=(10,10))\n",
        "plt.plot(valid_f1, c=\"green\")\n",
        "plt.plot(train_f1, c=\"red\")"
      ],
      "metadata": {
        "colab": {
          "base_uri": "https://localhost:8080/",
          "height": 610
        },
        "id": "33BI1hLGNEd8",
        "outputId": "9c57c327-1814-4fa9-97d7-cbe503594201"
      },
      "execution_count": 59,
      "outputs": [
        {
          "output_type": "execute_result",
          "data": {
            "text/plain": [
              "[<matplotlib.lines.Line2D at 0x7eff4a1713d0>]"
            ]
          },
          "metadata": {},
          "execution_count": 59
        },
        {
          "output_type": "display_data",
          "data": {
            "image/png": "[encoded data removed]",
            "text/plain": [
              "<Figure size 720x720 with 1 Axes>"
            ]
          },
          "metadata": {
            "needs_background": "light"
          }
        }
      ]
    },
    {
      "cell_type": "code",
      "source": [
        "# az 5 ös értéket válaszjuk a legjobbnak mert akkor volt a legjobb az eredmény a validációs halamzon (zöld)"
      ],
      "metadata": {
        "id": "DS8rodIyOv0Z"
      },
      "execution_count": 60,
      "outputs": []
    },
    {
      "cell_type": "markdown",
      "source": [
        "# 2/B. feladat\n",
        "\n",
        "Tesztelj egy lineáris gépet is ugyanerre a feladatra! \n",
        "\n",
        "A végén szövegként írd le, hogy a k-legközelebbi-szomszéd és a lineáris gékét algoritmus/megközelítés közül melyiket tekinted jobbnak!\n"
      ],
      "metadata": {
        "id": "zE3FxZDfv1pt"
      }
    },
    {
      "cell_type": "code",
      "source": [
        "from sklearn.linear_model import LinearRegression\n",
        "\n",
        "reg = LinearRegression() # lineáris gép regresszióra\n",
        "reg.fit(train_features, train_classlabels)\n",
        "prediction = reg.predict(valid_features)"
      ],
      "metadata": {
        "id": "QSo_6BmoyPKR"
      },
      "execution_count": 61,
      "outputs": []
    },
    {
      "cell_type": "code",
      "source": [
        "# Linearis gep mata parameter\n",
        "\n",
        "from sklearn.linear_model import LogisticRegression\n",
        "valid_f1=[]\n",
        "train_f1=[]\n",
        "for l in range(-7,5):\n",
        "  lin = LogisticRegression(random_state=0, \n",
        "                           max_iter=10000, # nehéz feladat a lineáris gépnek, engedjük a defaultnál tovább tanulni\n",
        "                           class_weight=\"balanced\", # tanulásnál átsúlyozzuk a ritka osztálycímkéket, ez sokat segít lineáris gépeknél\n",
        "                           C=10**l) # regularizációs együttható \n",
        "  lin.fit(train_features, train_classlabels)  \n",
        "  valid_prediction = lin.predict(valid_features)\n",
        "  valid_f1.append(f1_score(valid_classlabels, valid_prediction, pos_label='positive', average='micro'))\n",
        "  train_prediction = lin.predict(train_features)\n",
        "  train_f1.append(f1_score(train_classlabels, train_prediction, pos_label='positive', average='micro'))\n",
        "\n",
        "#kirajzolás\n",
        "import matplotlib.pyplot as plt\n",
        "plt.figure(figsize=(10,10))\n",
        "plt.plot(valid_f1, c=\"green\")\n",
        "plt.plot(train_f1, c=\"red\")\n",
        "\n",
        "#Sokáig fut de működik\n",
        "\n",
        "#a 10^4 értéket érdemes választani mert ott tjelesitett a legjobban a validacios halamaz\n",
        "# mivel minden lefuttatásnál random értékek futnak le, mindig más eredmányt fugunk kapni (kivettem a seedet szétválasztásnál)"
      ],
      "metadata": {
        "colab": {
          "base_uri": "https://localhost:8080/",
          "height": 1000
        },
        "id": "ADlG2AHVP7hg",
        "outputId": "cbb9129a-38ab-4b82-a986-2e70e0b33fd2"
      },
      "execution_count": 62,
      "outputs": [
        {
          "output_type": "stream",
          "name": "stderr",
          "text": [
            "/usr/local/lib/python3.7/dist-packages/sklearn/metrics/_classification.py:1365: UserWarning: Note that pos_label (set to 'positive') is ignored when average != 'binary' (got 'micro'). You may use labels=[pos_label] to specify a single positive class.\n",
            "  UserWarning,\n",
            "/usr/local/lib/python3.7/dist-packages/sklearn/metrics/_classification.py:1365: UserWarning: Note that pos_label (set to 'positive') is ignored when average != 'binary' (got 'micro'). You may use labels=[pos_label] to specify a single positive class.\n",
            "  UserWarning,\n",
            "/usr/local/lib/python3.7/dist-packages/sklearn/metrics/_classification.py:1365: UserWarning: Note that pos_label (set to 'positive') is ignored when average != 'binary' (got 'micro'). You may use labels=[pos_label] to specify a single positive class.\n",
            "  UserWarning,\n",
            "/usr/local/lib/python3.7/dist-packages/sklearn/metrics/_classification.py:1365: UserWarning: Note that pos_label (set to 'positive') is ignored when average != 'binary' (got 'micro'). You may use labels=[pos_label] to specify a single positive class.\n",
            "  UserWarning,\n",
            "/usr/local/lib/python3.7/dist-packages/sklearn/metrics/_classification.py:1365: UserWarning: Note that pos_label (set to 'positive') is ignored when average != 'binary' (got 'micro'). You may use labels=[pos_label] to specify a single positive class.\n",
            "  UserWarning,\n",
            "/usr/local/lib/python3.7/dist-packages/sklearn/metrics/_classification.py:1365: UserWarning: Note that pos_label (set to 'positive') is ignored when average != 'binary' (got 'micro'). You may use labels=[pos_label] to specify a single positive class.\n",
            "  UserWarning,\n",
            "/usr/local/lib/python3.7/dist-packages/sklearn/metrics/_classification.py:1365: UserWarning: Note that pos_label (set to 'positive') is ignored when average != 'binary' (got 'micro'). You may use labels=[pos_label] to specify a single positive class.\n",
            "  UserWarning,\n",
            "/usr/local/lib/python3.7/dist-packages/sklearn/metrics/_classification.py:1365: UserWarning: Note that pos_label (set to 'positive') is ignored when average != 'binary' (got 'micro'). You may use labels=[pos_label] to specify a single positive class.\n",
            "  UserWarning,\n",
            "/usr/local/lib/python3.7/dist-packages/sklearn/metrics/_classification.py:1365: UserWarning: Note that pos_label (set to 'positive') is ignored when average != 'binary' (got 'micro'). You may use labels=[pos_label] to specify a single positive class.\n",
            "  UserWarning,\n",
            "/usr/local/lib/python3.7/dist-packages/sklearn/metrics/_classification.py:1365: UserWarning: Note that pos_label (set to 'positive') is ignored when average != 'binary' (got 'micro'). You may use labels=[pos_label] to specify a single positive class.\n",
            "  UserWarning,\n",
            "/usr/local/lib/python3.7/dist-packages/sklearn/metrics/_classification.py:1365: UserWarning: Note that pos_label (set to 'positive') is ignored when average != 'binary' (got 'micro'). You may use labels=[pos_label] to specify a single positive class.\n",
            "  UserWarning,\n",
            "/usr/local/lib/python3.7/dist-packages/sklearn/metrics/_classification.py:1365: UserWarning: Note that pos_label (set to 'positive') is ignored when average != 'binary' (got 'micro'). You may use labels=[pos_label] to specify a single positive class.\n",
            "  UserWarning,\n",
            "/usr/local/lib/python3.7/dist-packages/sklearn/metrics/_classification.py:1365: UserWarning: Note that pos_label (set to 'positive') is ignored when average != 'binary' (got 'micro'). You may use labels=[pos_label] to specify a single positive class.\n",
            "  UserWarning,\n",
            "/usr/local/lib/python3.7/dist-packages/sklearn/metrics/_classification.py:1365: UserWarning: Note that pos_label (set to 'positive') is ignored when average != 'binary' (got 'micro'). You may use labels=[pos_label] to specify a single positive class.\n",
            "  UserWarning,\n",
            "/usr/local/lib/python3.7/dist-packages/sklearn/metrics/_classification.py:1365: UserWarning: Note that pos_label (set to 'positive') is ignored when average != 'binary' (got 'micro'). You may use labels=[pos_label] to specify a single positive class.\n",
            "  UserWarning,\n",
            "/usr/local/lib/python3.7/dist-packages/sklearn/metrics/_classification.py:1365: UserWarning: Note that pos_label (set to 'positive') is ignored when average != 'binary' (got 'micro'). You may use labels=[pos_label] to specify a single positive class.\n",
            "  UserWarning,\n",
            "/usr/local/lib/python3.7/dist-packages/sklearn/metrics/_classification.py:1365: UserWarning: Note that pos_label (set to 'positive') is ignored when average != 'binary' (got 'micro'). You may use labels=[pos_label] to specify a single positive class.\n",
            "  UserWarning,\n",
            "/usr/local/lib/python3.7/dist-packages/sklearn/metrics/_classification.py:1365: UserWarning: Note that pos_label (set to 'positive') is ignored when average != 'binary' (got 'micro'). You may use labels=[pos_label] to specify a single positive class.\n",
            "  UserWarning,\n",
            "/usr/local/lib/python3.7/dist-packages/sklearn/metrics/_classification.py:1365: UserWarning: Note that pos_label (set to 'positive') is ignored when average != 'binary' (got 'micro'). You may use labels=[pos_label] to specify a single positive class.\n",
            "  UserWarning,\n",
            "/usr/local/lib/python3.7/dist-packages/sklearn/metrics/_classification.py:1365: UserWarning: Note that pos_label (set to 'positive') is ignored when average != 'binary' (got 'micro'). You may use labels=[pos_label] to specify a single positive class.\n",
            "  UserWarning,\n",
            "/usr/local/lib/python3.7/dist-packages/sklearn/metrics/_classification.py:1365: UserWarning: Note that pos_label (set to 'positive') is ignored when average != 'binary' (got 'micro'). You may use labels=[pos_label] to specify a single positive class.\n",
            "  UserWarning,\n",
            "/usr/local/lib/python3.7/dist-packages/sklearn/metrics/_classification.py:1365: UserWarning: Note that pos_label (set to 'positive') is ignored when average != 'binary' (got 'micro'). You may use labels=[pos_label] to specify a single positive class.\n",
            "  UserWarning,\n",
            "/usr/local/lib/python3.7/dist-packages/sklearn/metrics/_classification.py:1365: UserWarning: Note that pos_label (set to 'positive') is ignored when average != 'binary' (got 'micro'). You may use labels=[pos_label] to specify a single positive class.\n",
            "  UserWarning,\n",
            "/usr/local/lib/python3.7/dist-packages/sklearn/metrics/_classification.py:1365: UserWarning: Note that pos_label (set to 'positive') is ignored when average != 'binary' (got 'micro'). You may use labels=[pos_label] to specify a single positive class.\n",
            "  UserWarning,\n"
          ]
        },
        {
          "output_type": "execute_result",
          "data": {
            "text/plain": [
              "[<matplotlib.lines.Line2D at 0x7eff4a133dd0>]"
            ]
          },
          "metadata": {},
          "execution_count": 62
        },
        {
          "output_type": "display_data",
          "data": {
            "image/png": "[encoded data removed]",
            "text/plain": [
              "<Figure size 720x720 with 1 Axes>"
            ]
          },
          "metadata": {
            "needs_background": "light"
          }
        }
      ]
    },
    {
      "cell_type": "markdown",
      "metadata": {
        "id": "4tEZiyAzkurk"
      },
      "source": [
        "# 3. feladat\n",
        "Melyik jellemző a leghasznosabb a tanult lineáris gépben?\n",
        "\n",
        "Építs erre az egy jellemzőre egy szabályalapú baselinet és értékeld ki!"
      ]
    },
    {
      "cell_type": "code",
      "metadata": {
        "id": "wVruapX_lg2M",
        "colab": {
          "base_uri": "https://localhost:8080/"
        },
        "outputId": "c74a8189-9af6-4c18-e49e-38e15610971d"
      },
      "source": [
        "# BASELINE REGRESSZIORA\n",
        "from sklearn.dummy import DummyRegressor\n",
        "from sklearn.metrics import mean_squared_error\n",
        "\n",
        "#mean_squared_error(prediction, testLabels)\n",
        "\n",
        "dummy = DummyRegressor(strategy='mean')\n",
        "dummy.fit(train_features, train_classlabels)\n",
        "mean_squared_error(dummy.predict(valid_features), valid_classlabels)\n",
        "\n",
        "# éppeen nem volt időm megcsinálni, hogy legerosebb jelllemzot kiirjam\n",
        "#model.coef_"
      ],
      "execution_count": 65,
      "outputs": [
        {
          "output_type": "execute_result",
          "data": {
            "text/plain": [
              "9.982150609883337"
            ]
          },
          "metadata": {},
          "execution_count": 65
        }
      ]
    }
  ]
}