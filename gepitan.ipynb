{
  "nbformat": 4,
  "nbformat_minor": 0,
  "metadata": {
    "colab": {
      "name": "Untitled3.ipynb",
      "provenance": [],
      "authorship_tag": "ABX9TyPU12CvsjYdhEjmAxZ6Ium1",
      "include_colab_link": true
    },
    "kernelspec": {
      "name": "python3",
      "display_name": "Python 3"
    },
    "language_info": {
      "name": "python"
    }
  },
  "cells": [
    {
      "cell_type": "markdown",
      "metadata": {
        "id": "view-in-github",
        "colab_type": "text"
      },
      "source": [
        "<a href=\"https://colab.research.google.com/github/molnaredom/gepitan/blob/main/gepitan.ipynb\" target=\"_parent\"><img src=\"https://colab.research.google.com/assets/colab-badge.svg\" alt=\"Open In Colab\"/></a>"
      ]
    },
    {
      "cell_type": "markdown",
      "metadata": {
        "id": "mw40IPMpOoD4"
      },
      "source": [
        "#Adatok előkészítése"
      ]
    },
    {
      "cell_type": "markdown",
      "metadata": {
        "id": "XRnW6cAmQNls"
      },
      "source": [
        "##--Adat beolvasás:"
      ]
    },
    {
      "cell_type": "code",
      "metadata": {
        "colab": {
          "base_uri": "https://localhost:8080/",
          "height": 423
        },
        "id": "hgo8mVtbQCLP",
        "outputId": "0f781684-5c21-4e26-8e37-baf894f2ed50"
      },
      "source": [
        "import pandas as pd\n",
        "df = pd.read_csv('https://datahub.io/machine-learning/credit-approval/r/credit-approval.csv', \n",
        "                 sep=',',  # \\t ha tab , \" \" ha szokoz\n",
        "                 header=0, # 0 --> a 0. sor a header, None --> nincs header\n",
        "                 #  nrows=86 # ennyi sort veszünk figyelembe\n",
        "                 # skiprows = 3 az eslő ennyi sort hagyjuk figyelmen kívül\n",
        "                 # names = colnames # Ha külön van a header itt külön is hozzá tudjuk adni\n",
        "                 #na_values=\"?\"\n",
        "                 )\n",
        "df"
      ],
      "execution_count": null,
      "outputs": [
        {
          "output_type": "execute_result",
          "data": {
            "text/html": [
              "<div>\n",
              "<style scoped>\n",
              "    .dataframe tbody tr th:only-of-type {\n",
              "        vertical-align: middle;\n",
              "    }\n",
              "\n",
              "    .dataframe tbody tr th {\n",
              "        vertical-align: top;\n",
              "    }\n",
              "\n",
              "    .dataframe thead th {\n",
              "        text-align: right;\n",
              "    }\n",
              "</style>\n",
              "<table border=\"1\" class=\"dataframe\">\n",
              "  <thead>\n",
              "    <tr style=\"text-align: right;\">\n",
              "      <th></th>\n",
              "      <th>A1</th>\n",
              "      <th>A2</th>\n",
              "      <th>A3</th>\n",
              "      <th>A4</th>\n",
              "      <th>A5</th>\n",
              "      <th>A6</th>\n",
              "      <th>A7</th>\n",
              "      <th>A8</th>\n",
              "      <th>A9</th>\n",
              "      <th>A10</th>\n",
              "      <th>A11</th>\n",
              "      <th>A12</th>\n",
              "      <th>A13</th>\n",
              "      <th>A14</th>\n",
              "      <th>A15</th>\n",
              "      <th>class</th>\n",
              "    </tr>\n",
              "  </thead>\n",
              "  <tbody>\n",
              "    <tr>\n",
              "      <th>0</th>\n",
              "      <td>b</td>\n",
              "      <td>30.83</td>\n",
              "      <td>0.000</td>\n",
              "      <td>u</td>\n",
              "      <td>g</td>\n",
              "      <td>w</td>\n",
              "      <td>v</td>\n",
              "      <td>1.25</td>\n",
              "      <td>t</td>\n",
              "      <td>t</td>\n",
              "      <td>1</td>\n",
              "      <td>f</td>\n",
              "      <td>g</td>\n",
              "      <td>202.0</td>\n",
              "      <td>0</td>\n",
              "      <td>+</td>\n",
              "    </tr>\n",
              "    <tr>\n",
              "      <th>1</th>\n",
              "      <td>a</td>\n",
              "      <td>58.67</td>\n",
              "      <td>4.460</td>\n",
              "      <td>u</td>\n",
              "      <td>g</td>\n",
              "      <td>q</td>\n",
              "      <td>h</td>\n",
              "      <td>3.04</td>\n",
              "      <td>t</td>\n",
              "      <td>t</td>\n",
              "      <td>6</td>\n",
              "      <td>f</td>\n",
              "      <td>g</td>\n",
              "      <td>43.0</td>\n",
              "      <td>560</td>\n",
              "      <td>+</td>\n",
              "    </tr>\n",
              "    <tr>\n",
              "      <th>2</th>\n",
              "      <td>a</td>\n",
              "      <td>24.50</td>\n",
              "      <td>0.500</td>\n",
              "      <td>u</td>\n",
              "      <td>g</td>\n",
              "      <td>q</td>\n",
              "      <td>h</td>\n",
              "      <td>1.50</td>\n",
              "      <td>t</td>\n",
              "      <td>f</td>\n",
              "      <td>0</td>\n",
              "      <td>f</td>\n",
              "      <td>g</td>\n",
              "      <td>280.0</td>\n",
              "      <td>824</td>\n",
              "      <td>+</td>\n",
              "    </tr>\n",
              "    <tr>\n",
              "      <th>3</th>\n",
              "      <td>b</td>\n",
              "      <td>27.83</td>\n",
              "      <td>1.540</td>\n",
              "      <td>u</td>\n",
              "      <td>g</td>\n",
              "      <td>w</td>\n",
              "      <td>v</td>\n",
              "      <td>3.75</td>\n",
              "      <td>t</td>\n",
              "      <td>t</td>\n",
              "      <td>5</td>\n",
              "      <td>t</td>\n",
              "      <td>g</td>\n",
              "      <td>100.0</td>\n",
              "      <td>3</td>\n",
              "      <td>+</td>\n",
              "    </tr>\n",
              "    <tr>\n",
              "      <th>4</th>\n",
              "      <td>b</td>\n",
              "      <td>20.17</td>\n",
              "      <td>5.625</td>\n",
              "      <td>u</td>\n",
              "      <td>g</td>\n",
              "      <td>w</td>\n",
              "      <td>v</td>\n",
              "      <td>1.71</td>\n",
              "      <td>t</td>\n",
              "      <td>f</td>\n",
              "      <td>0</td>\n",
              "      <td>f</td>\n",
              "      <td>s</td>\n",
              "      <td>120.0</td>\n",
              "      <td>0</td>\n",
              "      <td>+</td>\n",
              "    </tr>\n",
              "    <tr>\n",
              "      <th>...</th>\n",
              "      <td>...</td>\n",
              "      <td>...</td>\n",
              "      <td>...</td>\n",
              "      <td>...</td>\n",
              "      <td>...</td>\n",
              "      <td>...</td>\n",
              "      <td>...</td>\n",
              "      <td>...</td>\n",
              "      <td>...</td>\n",
              "      <td>...</td>\n",
              "      <td>...</td>\n",
              "      <td>...</td>\n",
              "      <td>...</td>\n",
              "      <td>...</td>\n",
              "      <td>...</td>\n",
              "      <td>...</td>\n",
              "    </tr>\n",
              "    <tr>\n",
              "      <th>685</th>\n",
              "      <td>b</td>\n",
              "      <td>21.08</td>\n",
              "      <td>10.085</td>\n",
              "      <td>y</td>\n",
              "      <td>p</td>\n",
              "      <td>e</td>\n",
              "      <td>h</td>\n",
              "      <td>1.25</td>\n",
              "      <td>f</td>\n",
              "      <td>f</td>\n",
              "      <td>0</td>\n",
              "      <td>f</td>\n",
              "      <td>g</td>\n",
              "      <td>260.0</td>\n",
              "      <td>0</td>\n",
              "      <td>-</td>\n",
              "    </tr>\n",
              "    <tr>\n",
              "      <th>686</th>\n",
              "      <td>a</td>\n",
              "      <td>22.67</td>\n",
              "      <td>0.750</td>\n",
              "      <td>u</td>\n",
              "      <td>g</td>\n",
              "      <td>c</td>\n",
              "      <td>v</td>\n",
              "      <td>2.00</td>\n",
              "      <td>f</td>\n",
              "      <td>t</td>\n",
              "      <td>2</td>\n",
              "      <td>t</td>\n",
              "      <td>g</td>\n",
              "      <td>200.0</td>\n",
              "      <td>394</td>\n",
              "      <td>-</td>\n",
              "    </tr>\n",
              "    <tr>\n",
              "      <th>687</th>\n",
              "      <td>a</td>\n",
              "      <td>25.25</td>\n",
              "      <td>13.500</td>\n",
              "      <td>y</td>\n",
              "      <td>p</td>\n",
              "      <td>ff</td>\n",
              "      <td>ff</td>\n",
              "      <td>2.00</td>\n",
              "      <td>f</td>\n",
              "      <td>t</td>\n",
              "      <td>1</td>\n",
              "      <td>t</td>\n",
              "      <td>g</td>\n",
              "      <td>200.0</td>\n",
              "      <td>1</td>\n",
              "      <td>-</td>\n",
              "    </tr>\n",
              "    <tr>\n",
              "      <th>688</th>\n",
              "      <td>b</td>\n",
              "      <td>17.92</td>\n",
              "      <td>0.205</td>\n",
              "      <td>u</td>\n",
              "      <td>g</td>\n",
              "      <td>aa</td>\n",
              "      <td>v</td>\n",
              "      <td>0.04</td>\n",
              "      <td>f</td>\n",
              "      <td>f</td>\n",
              "      <td>0</td>\n",
              "      <td>f</td>\n",
              "      <td>g</td>\n",
              "      <td>280.0</td>\n",
              "      <td>750</td>\n",
              "      <td>-</td>\n",
              "    </tr>\n",
              "    <tr>\n",
              "      <th>689</th>\n",
              "      <td>b</td>\n",
              "      <td>35.00</td>\n",
              "      <td>3.375</td>\n",
              "      <td>u</td>\n",
              "      <td>g</td>\n",
              "      <td>c</td>\n",
              "      <td>h</td>\n",
              "      <td>8.29</td>\n",
              "      <td>f</td>\n",
              "      <td>f</td>\n",
              "      <td>0</td>\n",
              "      <td>t</td>\n",
              "      <td>g</td>\n",
              "      <td>0.0</td>\n",
              "      <td>0</td>\n",
              "      <td>-</td>\n",
              "    </tr>\n",
              "  </tbody>\n",
              "</table>\n",
              "<p>690 rows × 16 columns</p>\n",
              "</div>"
            ],
            "text/plain": [
              "    A1     A2      A3 A4 A5  A6  A7    A8 A9 A10  A11 A12 A13    A14  A15 class\n",
              "0    b  30.83   0.000  u  g   w   v  1.25  t   t    1   f   g  202.0    0     +\n",
              "1    a  58.67   4.460  u  g   q   h  3.04  t   t    6   f   g   43.0  560     +\n",
              "2    a  24.50   0.500  u  g   q   h  1.50  t   f    0   f   g  280.0  824     +\n",
              "3    b  27.83   1.540  u  g   w   v  3.75  t   t    5   t   g  100.0    3     +\n",
              "4    b  20.17   5.625  u  g   w   v  1.71  t   f    0   f   s  120.0    0     +\n",
              "..  ..    ...     ... .. ..  ..  ..   ... ..  ..  ...  ..  ..    ...  ...   ...\n",
              "685  b  21.08  10.085  y  p   e   h  1.25  f   f    0   f   g  260.0    0     -\n",
              "686  a  22.67   0.750  u  g   c   v  2.00  f   t    2   t   g  200.0  394     -\n",
              "687  a  25.25  13.500  y  p  ff  ff  2.00  f   t    1   t   g  200.0    1     -\n",
              "688  b  17.92   0.205  u  g  aa   v  0.04  f   f    0   f   g  280.0  750     -\n",
              "689  b  35.00   3.375  u  g   c   h  8.29  f   f    0   t   g    0.0    0     -\n",
              "\n",
              "[690 rows x 16 columns]"
            ]
          },
          "metadata": {},
          "execution_count": 6
        }
      ]
    },
    {
      "cell_type": "markdown",
      "metadata": {
        "id": "u9pp-Ln-ewEr"
      },
      "source": [
        "##--Adathalmaz szétválasztása"
      ]
    },
    {
      "cell_type": "markdown",
      "metadata": {
        "id": "CkN8ISQkQp7T"
      },
      "source": [
        "(1)Adathalmaz szétválasztása cél és jellemző változókra\n",
        "\n",
        "\n"
      ]
    },
    {
      "cell_type": "code",
      "metadata": {
        "id": "A3pRReZuQyL4"
      },
      "source": [
        "# célváltozó megadása \n",
        "classlabel = df[\"class\"] #névvel\n",
        "classlabel = df.iloc[:,-1] #számmal (összes sor) (utolsó oszlop)\n",
        "\n",
        "#jellemzőoszlopok kinyerése\n",
        "features = df.iloc[:,:-1] # az utolsó oszlop kivételével minden oszlop "
      ],
      "execution_count": null,
      "outputs": []
    },
    {
      "cell_type": "markdown",
      "metadata": {
        "id": "D0_XPULDxjSj"
      },
      "source": [
        "\n",
        "\n",
        "```\n",
        "# Ez kódként van formázva\n",
        "```\n",
        "\n",
        "(2)Adathalmaz szétválasztása cél és jellemző változókra"
      ]
    },
    {
      "cell_type": "code",
      "metadata": {
        "colab": {
          "base_uri": "https://localhost:8080/",
          "height": 135
        },
        "id": "8MwQC99lxoaV",
        "outputId": "ec845147-d038-4303-bad8-154ee1416466"
      },
      "source": [
        "from sklearn.model_selection import train_test_split\n",
        "train_features, valid_features, train_classlabels, valid_classlabels= train_test_split(features,\n",
        "                                                                                       classlabels,\n",
        "                                                                                       test_size=0.25,\n",
        "                                                                                       random_state=42)"
      ],
      "execution_count": null,
      "outputs": [
        {
          "output_type": "error",
          "ename": "SyntaxError",
          "evalue": "ignored",
          "traceback": [
            "\u001b[0;36m  File \u001b[0;32m\"<ipython-input-8-49f9c3261e12>\"\u001b[0;36m, line \u001b[0;32m3\u001b[0m\n\u001b[0;31m    = train_test_split(features, classlabels, test_size=0.25, random_state=42)\u001b[0m\n\u001b[0m    ^\u001b[0m\n\u001b[0;31mSyntaxError\u001b[0m\u001b[0;31m:\u001b[0m invalid syntax\n"
          ]
        }
      ]
    },
    {
      "cell_type": "markdown",
      "metadata": {
        "id": "a2nPWCXxe2_a"
      },
      "source": [
        "\n",
        "(3)Adathalmaz szétválasztása cél és jellemző változókra"
      ]
    },
    {
      "cell_type": "code",
      "metadata": {
        "id": "mxCWjlXKe3dF"
      },
      "source": [
        "testFeatures = d[d.GameID > 7000].loc[:,\"Age\":]\n",
        "trainFeatures = d[d.GameID < 7001].loc[:,\"Age\":]\n",
        "trainLabels = d[d.GameID < 7001].LeagueIndex\n",
        "testLabels =  d[d.GameID > 7000].LeagueIndex"
      ],
      "execution_count": null,
      "outputs": []
    },
    {
      "cell_type": "markdown",
      "metadata": {
        "id": "4y4ZpSZMfJTE"
      },
      "source": [
        "##--Átalakítások, szűrések"
      ]
    },
    {
      "cell_type": "markdown",
      "metadata": {
        "id": "7lsHpLzVQWrI"
      },
      "source": [
        "Nan értékek eldobása✈"
      ]
    },
    {
      "cell_type": "code",
      "metadata": {
        "id": "ZwM2XdEAQd1m"
      },
      "source": [
        "df = df.dropna()"
      ],
      "execution_count": null,
      "outputs": []
    },
    {
      "cell_type": "markdown",
      "metadata": {
        "id": "eUgvumL5QgUe"
      },
      "source": [
        "Diszkrét jellemzőkké alakítás"
      ]
    },
    {
      "cell_type": "code",
      "metadata": {
        "id": "vh4ri6LTSqrn"
      },
      "source": [
        "from sklearn import preprocessing\n",
        "ohe = preprocessing.OneHotEncoder()\n",
        "cat_features = ohe.fit_transform(features.select_dtypes(include=['object'])) # kategórikus jellemzők ritka mátrixként\n",
        "import scipy.sparse\n",
        "num_features = scipy.sparse.csr_matrix(features.select_dtypes(exclude=['object'])) # numerikus jellemzők ritka mátrixként\n",
        "ohe_features = scipy.sparse.hstack((cat_features, num_features)) # ritka mátrixok horizontális konkatenálása \n",
        "ohe_features"
      ],
      "execution_count": null,
      "outputs": []
    },
    {
      "cell_type": "markdown",
      "metadata": {
        "id": "i7Rc-5w-rBIU"
      },
      "source": [
        "Szózsákokba osztás --> Ha szöveget kell kezelni"
      ]
    },
    {
      "cell_type": "code",
      "metadata": {
        "id": "vq2YbEvGrLas"
      },
      "source": [
        "from sklearn.feature_extraction.text import CountVectorizer\n",
        "vectorizer = CountVectorizer( # szózsák\n",
        "    min_df=10) # ????? -> ez hamis --azokat a szavakat jegyzi meg amiből 9 nél több volt\n",
        "\n",
        "vectorizer.fit(train_data.text)# minden előforduló szót összegyűjt\n",
        "\n",
        "features = vectorizer.transform(train_data.text) #minden szót megszámol hányszor fordul elő \n",
        "                                                 #és hozzárendeli a szóhoz a számértéket\n",
        "                                                 "
      ],
      "execution_count": null,
      "outputs": []
    },
    {
      "cell_type": "markdown",
      "metadata": {
        "id": "Ccj58AFMuLnT"
      },
      "source": [
        "Szöveg feldolgozás"
      ]
    },
    {
      "cell_type": "code",
      "metadata": {
        "id": "DWY1k6A2uRNq"
      },
      "source": [
        ""
      ],
      "execution_count": null,
      "outputs": []
    },
    {
      "cell_type": "markdown",
      "metadata": {
        "id": "W8ZKXnbrPpwH"
      },
      "source": [
        "#Model típusok"
      ]
    },
    {
      "cell_type": "markdown",
      "metadata": {
        "id": "7TR6WFzepRPe"
      },
      "source": [
        "\n",
        "\n",
        "---\n",
        "\n"
      ]
    },
    {
      "cell_type": "markdown",
      "metadata": {
        "id": "2KM46d2ucTwz"
      },
      "source": [
        "##-- Osztályozás\n",
        "\n"
      ]
    },
    {
      "cell_type": "markdown",
      "metadata": {
        "id": "3J2DOx5XfZ3S"
      },
      "source": [
        "Osztályozási Döntési fa  --> Ha kevés jellemző oszlop van"
      ]
    },
    {
      "cell_type": "code",
      "metadata": {
        "id": "VOtTSQuOOmEB"
      },
      "source": [
        "from sklearn import tree\n",
        "# döntési fa osztályozó  --- kevés számú diszkrét jellemző esetén.\n",
        "dt = tree.DecisionTreeClassifier(\n",
        "     min_samples_leaf=20,\n",
        "     max_depth=2\n",
        "     ) "
      ],
      "execution_count": null,
      "outputs": []
    },
    {
      "cell_type": "markdown",
      "metadata": {
        "id": "WvN8bfmHpT1k"
      },
      "source": [
        "Lineáris gépek  --> Ha sok jellemző oszlop van (pl szózsák)"
      ]
    },
    {
      "cell_type": "code",
      "metadata": {
        "id": "RkoV7dVVPwgZ"
      },
      "source": [
        "from sklearn.linear_model import SGDClassifier\n",
        "cls = SGDClassifier()\n",
        "\n",
        "model = cls.fit(features, train_data.label)"
      ],
      "execution_count": null,
      "outputs": []
    },
    {
      "cell_type": "markdown",
      "metadata": {
        "id": "IDB9CKuCs_49"
      },
      "source": [
        "k legközelebbi szomszéd knn --> ha figyelembe akarjuk venni hogy egymás mellett vannak ez az adatok (pixelek)(pl képek)"
      ]
    },
    {
      "cell_type": "code",
      "metadata": {
        "id": "7RRNTcxgtEBd"
      },
      "source": [
        "from sklearn.neighbors import KNeighborsClassifier\n",
        "model = KNeighborsClassifier(n_neighbors=15) # n_neighbors a k érték (szomszédok száma)"
      ],
      "execution_count": null,
      "outputs": []
    },
    {
      "cell_type": "markdown",
      "metadata": {
        "id": "KyOiKHZMcYF2"
      },
      "source": [
        "##--Regresszió"
      ]
    },
    {
      "cell_type": "markdown",
      "metadata": {
        "id": "j6imFvBXZq4Y"
      },
      "source": [
        "Lineáris regressziós modell - lineáris gép szintén - sok oslop eseten hasznos"
      ]
    },
    {
      "cell_type": "code",
      "metadata": {
        "id": "OiFnzPMMZ6Pi"
      },
      "source": [
        "from sklearn.linear_model import LinearRegression\n",
        "\n",
        "reg = LinearRegression() # lineáris gép regresszióra\n",
        "reg.fit(trainFeatures, trainLabels)\n",
        "prediction = reg.predict(testFeatures)"
      ],
      "execution_count": null,
      "outputs": []
    },
    {
      "cell_type": "markdown",
      "metadata": {
        "id": "hlbStBAWRRw9"
      },
      "source": [
        "Regressziós(folytonos értékek) Döntési fa --> ha kevés oszlop van"
      ]
    },
    {
      "cell_type": "code",
      "metadata": {
        "id": "CTT84ex0RYnI"
      },
      "source": [
        "from sklearn.neighbors import KNeighborsRegressor\n",
        "\n",
        "dt = KNeighborsRegressor(n_neighbors=9) # döntési fa regresszióra\n",
        "dt.fit(trainFeatures, trainLabels) # tanítás a tanító adatbázison\n",
        "prediction = dt.predict(testFeatures) # predikció a teszt adatbázison"
      ],
      "execution_count": null,
      "outputs": []
    },
    {
      "cell_type": "markdown",
      "metadata": {
        "id": "ImCwWmSDcb8j"
      },
      "source": [
        "Logistic regression - egyenesekkel dönti el hova esnek az egyedek"
      ]
    },
    {
      "cell_type": "code",
      "metadata": {
        "id": "NLFZdX8CcRbo"
      },
      "source": [
        "lin = LogisticRegression(random_state=0, max_iter=10000, class_weight=\"balanced\", C=10**-3)\n",
        "lin.fit(train_features, train_classlabels)  \n",
        "valid_prediction = lin.predict(valid_features)\n",
        "print(classification_report(valid_classlabels, valid_prediction))\n",
        "print(\"Legjobb logisztikus regresszió a validációs halmazon:\", f1_score(valid_classlabels, valid_prediction, pos_label=1))"
      ],
      "execution_count": null,
      "outputs": []
    },
    {
      "cell_type": "markdown",
      "metadata": {
        "id": "dNhPoG8NzfWO"
      },
      "source": [
        "# Model meta paraméter hangolás"
      ]
    },
    {
      "cell_type": "markdown",
      "metadata": {
        "id": "7z_-tiZ2znFo"
      },
      "source": [
        "##--Döntési fa hangolása - mélység beállítása (melyik mélység az ideális?)"
      ]
    },
    {
      "cell_type": "code",
      "metadata": {
        "id": "Bmf2UJbPzpfq"
      },
      "source": [
        "valid_f1=[]\n",
        "train_f1=[]\n",
        "for d in range(1,40):\n",
        "  dt = tree.DecisionTreeClassifier(max_depth=d) # döntési fa mélysége\n",
        "  dt.fit(train_features, train_classlabels)  # tanítunk a tanító adatbázison\n",
        "  valid_prediction = dt.predict(valid_features)\n",
        "  valid_f1.append(f1_score(valid_classlabels, valid_prediction, pos_label=1)) # kiértékelés a validációs halmazon\n",
        "  train_prediction = dt.predict(train_features)\n",
        "  train_f1.append(f1_score(train_classlabels, train_prediction, pos_label=1)) # a tanító adatbázison is kiértékeljük a túltanulási vizsgálatokhoz\n",
        "\n",
        "#kirazolás\n",
        "import matplotlib.pyplot as plt\n",
        "plt.figure(figsize=(10,10))\n",
        "plt.plot(valid_f1, c=\"green\")\n",
        "plt.plot(train_f1, c=\"red\")"
      ],
      "execution_count": null,
      "outputs": []
    },
    {
      "cell_type": "markdown",
      "metadata": {
        "id": "Cfk6HmSE0Nld"
      },
      "source": [
        "## --Lineáris gép meta-paraméter hangolása\n"
      ]
    },
    {
      "cell_type": "markdown",
      "metadata": {
        "id": "DgFYK4xR0aEg"
      },
      "source": [
        "Cél a  legjobb regularizációs együttható megtalálása ( l betűvel jelezzük)"
      ]
    },
    {
      "cell_type": "code",
      "metadata": {
        "id": "skFivSrO0X0w"
      },
      "source": [
        "from sklearn.linear_model import LogisticRegression\n",
        "valid_f1=[]\n",
        "train_f1=[]\n",
        "for l in range(-7,5):\n",
        "  lin = LogisticRegression(random_state=0, \n",
        "                           max_iter=10000, # nehéz feladat a lineáris gépnek, engedjük a defaultnál tovább tanulni\n",
        "                           class_weight=\"balanced\", # tanulásnál átsúlyozzuk a ritka osztálycímkéket, ez sokat segít lineáris gépeknél\n",
        "                           C=10**l) # regularizációs együttható \n",
        "  lin.fit(train_features, train_classlabels)  \n",
        "  valid_prediction = lin.predict(valid_features)\n",
        "  valid_f1.append(f1_score(valid_classlabels, valid_prediction, pos_label=1))\n",
        "  train_prediction = lin.predict(train_features)\n",
        "  train_f1.append(f1_score(train_classlabels, train_prediction, pos_label=1))\n",
        "\n",
        "#kirajzolás\n",
        "import matplotlib.pyplot as plt\n",
        "plt.figure(figsize=(10,10))\n",
        "plt.plot(valid_f1, c=\"green\")\n",
        "plt.plot(train_f1, c=\"red\")\n",
        "\n",
        "# aza jó ahol a zöld a legmagasabb mert aza  validációs halamaz"
      ],
      "execution_count": null,
      "outputs": []
    },
    {
      "cell_type": "markdown",
      "metadata": {
        "id": "ZbKWOqnK1Xfn"
      },
      "source": [
        "## --kNN osztályozó meta-paraméter hangolása"
      ]
    },
    {
      "cell_type": "markdown",
      "metadata": {
        "id": "VEZ6LnbL1ZcM"
      },
      "source": [
        "Azt keressük hány szomszéddal nézva a legjobb az eredmény a validácis halmazon"
      ]
    },
    {
      "cell_type": "code",
      "metadata": {
        "id": "ILcI6yIv1jid"
      },
      "source": [
        "from sklearn.neighbors import KNeighborsClassifier\n",
        "valid_f1=[]\n",
        "train_f1=[]\n",
        "for k in range(1,20,2): # páratlan k értékek\n",
        "  knn = KNeighborsClassifier(n_neighbors=k) # kNN különböző k értékekkel\n",
        "  knn.fit(train_features, train_classlabels)  \n",
        "  valid_prediction = knn.predict(valid_features)\n",
        "  valid_f1.append(f1_score(valid_classlabels, valid_prediction, pos_label=1))\n",
        "  train_prediction = knn.predict(train_features)\n",
        "  train_f1.append(f1_score(train_classlabels, train_prediction, pos_label=1))"
      ],
      "execution_count": null,
      "outputs": []
    },
    {
      "cell_type": "code",
      "metadata": {
        "id": "J3ye24kG1nch"
      },
      "source": [
        "### kiiratas\n",
        "plt.figure(figsize=(10,10))\n",
        "plt.plot(valid_f1, c=\"green\")\n",
        "plt.plot(train_f1, c=\"red\")"
      ],
      "execution_count": null,
      "outputs": []
    },
    {
      "cell_type": "markdown",
      "metadata": {
        "id": "iq7WjKsE19J0"
      },
      "source": [
        "## --*? HA az összes előfordulási lehetőségre meg akarjuk nezni"
      ]
    },
    {
      "cell_type": "code",
      "metadata": {
        "id": "ONaPDMaR2Ndd"
      },
      "source": [
        "from sklearn import svm\n",
        "from sklearn.model_selection import GridSearchCV\n",
        "from sklearn.metrics import make_scorer, f1_score\n",
        "\n",
        "parameters = {'kernel':['linear', 'rbf'], 'C':[100, 10, 1]}\n",
        "svc = svm.SVC()\n",
        "clf = GridSearchCV(svc, parameters,\n",
        "                   cv = 3,\n",
        "                   scoring =  make_scorer(f1_score, pos_label=1),\n",
        "                   verbose=3)\n",
        "clf.fit(features, classlabels)"
      ],
      "execution_count": null,
      "outputs": []
    },
    {
      "cell_type": "code",
      "metadata": {
        "id": "MFP4sRNl2H5-"
      },
      "source": [
        "sorted(clf.cv_results_.keys())"
      ],
      "execution_count": null,
      "outputs": []
    },
    {
      "cell_type": "code",
      "metadata": {
        "id": "bSs19XZW2TkK"
      },
      "source": [
        "clf.best_estimator_"
      ],
      "execution_count": null,
      "outputs": []
    },
    {
      "cell_type": "markdown",
      "metadata": {
        "id": "aXfHSi0eSfWR"
      },
      "source": [
        ""
      ]
    },
    {
      "cell_type": "markdown",
      "metadata": {
        "id": "qccP839HyOEK"
      },
      "source": [
        "#Predikciók"
      ]
    },
    {
      "cell_type": "code",
      "metadata": {
        "id": "LZouLhjFtWAt"
      },
      "source": [
        ""
      ],
      "execution_count": null,
      "outputs": []
    },
    {
      "cell_type": "markdown",
      "metadata": {
        "id": "0c5o8-l7tfmP"
      },
      "source": [
        "##Főmodell kiértékelés"
      ]
    },
    {
      "cell_type": "markdown",
      "metadata": {
        "id": "Vr302_iTyVpA"
      },
      "source": [
        " precision    recall  f1-score   support"
      ]
    },
    {
      "cell_type": "code",
      "metadata": {
        "id": "q9ybu3QWyRTy"
      },
      "source": [
        "prediction = dt.predict(valid_features)\n",
        "from sklearn.metrics import classification_report\n",
        "print(classification_report(valid_classlabels, prediction))\n"
      ],
      "execution_count": null,
      "outputs": []
    },
    {
      "cell_type": "markdown",
      "metadata": {
        "id": "v-kj5yU_tM6q"
      },
      "source": [
        "Accuracy"
      ]
    },
    {
      "cell_type": "code",
      "metadata": {
        "id": "VFs3hU4MtPaH"
      },
      "source": [
        "accuracy_score(y_true=test_data.label, y_pred=prediction)"
      ],
      "execution_count": null,
      "outputs": []
    },
    {
      "cell_type": "markdown",
      "metadata": {
        "id": "haxodotErxxM"
      },
      "source": [
        "#Kiértékelés"
      ]
    },
    {
      "cell_type": "markdown",
      "metadata": {
        "id": "tXg8i2LBSvNn"
      },
      "source": [
        "##--Visszaellenőrzés-jó e amit csináltunk BASELINE-al"
      ]
    },
    {
      "cell_type": "code",
      "metadata": {
        "id": "gFWrHtKlv97c"
      },
      "source": [
        "from sklearn.dummy import DummyClassifier\n",
        "\n",
        "dummy_clf = DummyClassifier(strategy=\"most_frequent\") #vagy  mean # tanító adatbázis leggyakoribb osztálya lesz mindig a predikció\n",
        "dummy_clf.fit(features, train_data.label) # ugyanazon a tanító adatbázison \"tanítjuk\"\n",
        "baseline_prediction = dummy_clf.predict(test_features) # predikció a kiértékelő adatbázison\n",
        "accuracy_score(baseline_prediction, test_data.label)"
      ],
      "execution_count": null,
      "outputs": []
    },
    {
      "cell_type": "markdown",
      "metadata": {
        "id": "ZEQPiyUAS81R"
      },
      "source": [
        "MSE hibaellenőrzés"
      ]
    },
    {
      "cell_type": "code",
      "metadata": {
        "id": "GXJm8qGfTBkY"
      },
      "source": [
        "from sklearn.metrics import mean_squared_error # MSE (RMSE végső gyökvonás nélkül)\n",
        "mean_squared_error(prediction, testLabels)\n",
        "\n",
        "from sklearn.dummy import DummyRegressor\n",
        "dummy = DummyRegressor(strategy='mean') # tanító adatbázis címkéinek átlaga lesz mindig a predikció\n",
        "dummy.fit(trainFeatures, trainLabels)\n",
        "mean_squared_error(dummy.predict(testFeatures), testLabels)"
      ],
      "execution_count": null,
      "outputs": []
    },
    {
      "cell_type": "markdown",
      "metadata": {
        "id": "gyrnKnuWS1in"
      },
      "source": [
        "##--Ábrák, kirajzolások"
      ]
    },
    {
      "cell_type": "markdown",
      "metadata": {
        "id": "O61bDP2pawQw"
      },
      "source": [
        "Sima hisztogramm"
      ]
    },
    {
      "cell_type": "code",
      "metadata": {
        "id": "Lwppsxiuazvv"
      },
      "source": [
        "classlabels.hist()"
      ],
      "execution_count": null,
      "outputs": []
    },
    {
      "cell_type": "markdown",
      "metadata": {
        "id": "43NjHV3Cr5oo"
      },
      "source": [
        "Legértékesebb, legerősebb jellemző kinyerése - osztályozás esetén"
      ]
    },
    {
      "cell_type": "code",
      "metadata": {
        "id": "x26IBEjnr0s-"
      },
      "source": [
        "sorted(zip(model.coef_[0], vectorizer.get_feature_names()),reverse=True)[:15]"
      ],
      "execution_count": null,
      "outputs": []
    },
    {
      "cell_type": "markdown",
      "metadata": {
        "id": "54_HmZYeraG9"
      },
      "source": [
        "legerősebb jellemző regressziós esetén"
      ]
    },
    {
      "cell_type": "code",
      "metadata": {
        "id": "hHwyN7yGrfoO"
      },
      "source": [
        "dt = DecisionTreeRegressor(max_depth=1)\n",
        "dt.fit(trainFeatures, trainLabels) # tanítás a tanító adatbázison\n",
        "root = dt.tree_.feature[0] # gyökér csúcsban lévő jellemző indexe\n",
        "trainFeatures.columns[root] # legfontosabb jellemző DT szerint"
      ],
      "execution_count": null,
      "outputs": []
    },
    {
      "cell_type": "markdown",
      "metadata": {
        "id": "eHk0Vkosx8D2"
      },
      "source": [
        "Döntési fa kirajzolás"
      ]
    },
    {
      "cell_type": "code",
      "metadata": {
        "id": "8CU4fkfHx_UK"
      },
      "source": [
        "!apt-get -qq install -y graphviz && pip install -q pydot #Thank you https://medium.com/deep-learning-turkey/google-colab-free-gpu-tutorial-e113627b9f5d\n",
        "!pip install graphviz\n",
        "import pydot\n",
        "import graphviz\n",
        "graphviz.Source(tree.export_graphviz(dt, out_file=None))"
      ],
      "execution_count": null,
      "outputs": []
    },
    {
      "cell_type": "markdown",
      "metadata": {
        "id": "FSefyLkVyFRL"
      },
      "source": [
        "Prediktálás precision recall.."
      ]
    },
    {
      "cell_type": "code",
      "metadata": {
        "id": "Qf5W4U5myJOU"
      },
      "source": [
        ""
      ],
      "execution_count": null,
      "outputs": []
    },
    {
      "cell_type": "markdown",
      "metadata": {
        "id": "ZgxLbBg8aHvi"
      },
      "source": [
        "Regresszió vizualizalas:"
      ]
    },
    {
      "cell_type": "code",
      "metadata": {
        "id": "qntr3XPuaK2A"
      },
      "source": [
        "fig, ax = plt.subplots(figsize=(18, 6))\n",
        "plt.plot(range(0,len(trainLabels)), trainLabels, c='grey', alpha=0.5)\n",
        "testrange = range(len(trainLabels)-1,len(trainLabels)+len(testLabels)-1)\n",
        "plt.plot(testrange, testLabels, c='c', marker='o')\n",
        "plt.plot(testrange, prediction, c='r', marker='o')\n",
        "ax.legend(['múlt', 'jövőbeli tényleges', 'predikció'])\n",
        "plt.show()"
      ],
      "execution_count": null,
      "outputs": []
    },
    {
      "cell_type": "markdown",
      "metadata": {
        "id": "TLDvs1bVwaGw"
      },
      "source": [
        "Tévesztési mátrix szines"
      ]
    },
    {
      "cell_type": "code",
      "metadata": {
        "id": "UAiY-kG-wdox"
      },
      "source": [
        "from sklearn.metrics import ConfusionMatrixDisplay\n",
        "cm = confusion_matrix(y_true=test_data.label, y_pred=prediction)\n",
        "ConfusionMatrixDisplay(cm, display_labels=model.classes_).plot(values_format='.3g')"
      ],
      "execution_count": null,
      "outputs": []
    }
  ]
}